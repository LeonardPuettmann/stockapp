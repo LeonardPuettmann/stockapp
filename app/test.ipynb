{
 "cells": [
  {
   "cell_type": "code",
   "execution_count": 1,
   "metadata": {},
   "outputs": [],
   "source": [
    "from transformers import AutoModelForQuestionAnswering,  AutoTokenizer, pipeline\n",
    "from sentiment import get_news\n",
    "from util import get_data\n",
    "import constants"
   ]
  },
  {
   "cell_type": "code",
   "execution_count": 2,
   "metadata": {},
   "outputs": [],
   "source": [
    "symbol_price = get_data(symbol=\"MSFT\")\n",
    "current_price = symbol_price.iloc[0].close  "
   ]
  },
  {
   "cell_type": "code",
   "execution_count": 3,
   "metadata": {},
   "outputs": [
    {
     "data": {
      "text/plain": [
       "241.2"
      ]
     },
     "execution_count": 3,
     "metadata": {},
     "output_type": "execute_result"
    }
   ],
   "source": [
    "current_price"
   ]
  },
  {
   "cell_type": "code",
   "execution_count": null,
   "metadata": {},
   "outputs": [],
   "source": [
    "subscription_key = constants.BING_KEY\n",
    "search_url = \"https://api.bing.microsoft.com/v7.0/news/search\"\n",
    "\n",
    "headers = {\"Ocp-Apim-Subscription-Key\" : subscription_key}\n",
    "params  = {\"q\": search_term, \"textDecorations\": True, \"textFormat\": \"HTML\", \"mkt\": \"en-US\"}\n",
    "\n",
    "response = requests.get(search_url, headers=headers, params=params)\n",
    "response.raise_for_status()\n",
    "search_results = response.json()"
   ]
  },
  {
   "cell_type": "code",
   "execution_count": 29,
   "metadata": {},
   "outputs": [],
   "source": [
    "search_term = \"AVGO\"\n",
    "news = get_news(search_term)"
   ]
  },
  {
   "cell_type": "code",
   "execution_count": 30,
   "metadata": {},
   "outputs": [
    {
     "data": {
      "text/plain": [
       "'Broadcom Inc. (AVGO) closed at $585.03 in the latest trading session, marking a +0.58% move from the prior day. Shares of Broadcom Inc. inched 0.11% higher to $585.68 Wednesday, on what proved to be an all-around mixed trading session for the stock market, with the Safe and sustainable dividend payments, which Broadcom has managed to increase in each year in the past 11 years. See why we rate AVGO stock a buy. Here are 3 companies under large accumulation this year. Broadcom Inc. (AVGO) Analysis. First is Broadcom (AVGO) which is a large semiconductor supplier and maker of infrastructur <b>AVGO</b>&#39;s debt-to-equity ratio is very low at 0.00 and is currently below that of the industry average, implying that there has been very successful management of debt levels. Broadcom Inc. (AVGO) has received quite a bit of attention from Zacks.com users lately. Therefore, it is wise to be aware of the facts that can impact the stock&#39;s prospects. The U.K.’s Competition and Markets Authority said Wednesday that it was investigating Broadcom Inc.’s planned $61 billion purchase of VMware Inc. The Broadcom is exposed to a range of growth markets that should allow it to deliver solid business growth going forward. Read why AVGO remains attractive today. By way of learning-by-doing, we&#39;ll look at ROE to gain a better understanding of Broadcom Inc. (NASDAQ:<b>AVGO</b>). Return on equity or ROE is an important factor to be considered by a shareholder ...'"
      ]
     },
     "execution_count": 30,
     "metadata": {},
     "output_type": "execute_result"
    }
   ],
   "source": [
    "\" \".join(news[\"description\"])"
   ]
  },
  {
   "cell_type": "code",
   "execution_count": 26,
   "metadata": {},
   "outputs": [],
   "source": [
    "model_name = \"deepset/minilm-uncased-squad2\"\n",
    "\n",
    "# a) Get predictions\n",
    "nlp = pipeline('question-answering', model=model_name, tokenizer=model_name)"
   ]
  },
  {
   "cell_type": "code",
   "execution_count": 37,
   "metadata": {},
   "outputs": [],
   "source": [
    "QA_input = {\n",
    "    'question': f\"What is happening at {search_term}?\",\n",
    "    'context': \" \".join(news[\"description\"])\n",
    "}\n",
    "res = nlp(QA_input)"
   ]
  },
  {
   "cell_type": "code",
   "execution_count": 38,
   "metadata": {},
   "outputs": [
    {
     "data": {
      "text/plain": [
       "{'score': 0.04027828946709633,\n",
       " 'start': 799,\n",
       " 'end': 864,\n",
       " 'answer': 'has received quite a bit of attention from Zacks.com users lately'}"
      ]
     },
     "execution_count": 38,
     "metadata": {},
     "output_type": "execute_result"
    }
   ],
   "source": [
    "res"
   ]
  },
  {
   "cell_type": "code",
   "execution_count": null,
   "metadata": {},
   "outputs": [],
   "source": []
  }
 ],
 "metadata": {
  "kernelspec": {
   "display_name": "Python 3",
   "language": "python",
   "name": "python3"
  },
  "language_info": {
   "codemirror_mode": {
    "name": "ipython",
    "version": 3
   },
   "file_extension": ".py",
   "mimetype": "text/x-python",
   "name": "python",
   "nbconvert_exporter": "python",
   "pygments_lexer": "ipython3",
   "version": "3.9.2"
  },
  "orig_nbformat": 4,
  "vscode": {
   "interpreter": {
    "hash": "d37735ab87abccc8139abe988438c739cb03a9d8c6c58871ebffce8beac18701"
   }
  }
 },
 "nbformat": 4,
 "nbformat_minor": 2
}
